{
 "cells": [
  {
   "cell_type": "code",
   "execution_count": null,
   "id": "c4d8c037",
   "metadata": {},
   "outputs": [],
   "source": [
    "# load tidyverse library\n",
    "library(tidyverse)"
   ]
  },
  {
   "cell_type": "code",
   "execution_count": null,
   "id": "459da11d",
   "metadata": {},
   "outputs": [],
   "source": [
    "# install ISLR2\n",
    "install.packages(\"ISLR2\")\n",
    "\n",
    "# load package\n",
    "library(ISLR2)"
   ]
  },
  {
   "cell_type": "code",
   "execution_count": null,
   "id": "24d0c4ba",
   "metadata": {},
   "outputs": [],
   "source": [
    "# load dataset\n",
    "data(Wage)\n",
    "head(Wage)"
   ]
  },
  {
   "cell_type": "markdown",
   "id": "291c7751",
   "metadata": {},
   "source": [
    "### Data Cleaning and Pre-processing"
   ]
  },
  {
   "cell_type": "code",
   "execution_count": null,
   "id": "a4d702c5",
   "metadata": {},
   "outputs": [],
   "source": [
    "# checking for missing data\n",
    "is.null(Wage)"
   ]
  },
  {
   "cell_type": "code",
   "execution_count": null,
   "id": "4b79dc29",
   "metadata": {},
   "outputs": [],
   "source": [
    "# structure of the data\n",
    "str(Wage)"
   ]
  },
  {
   "cell_type": "code",
   "execution_count": null,
   "id": "e727c9cf",
   "metadata": {},
   "outputs": [],
   "source": [
    "# Dropping region - ALL DATA TAKEN FROM MID-ATLANTIC \n",
    "data <- subset(Wage, select = -c(region))\n",
    "head(data)"
   ]
  },
  {
   "cell_type": "markdown",
   "id": "2dce42c9",
   "metadata": {},
   "source": [
    "## Part 1: Exploratory Data Analysis - OVERALL\n",
    "\n",
    "#### Summary Statistics"
   ]
  },
  {
   "cell_type": "code",
   "execution_count": null,
   "id": "64469440",
   "metadata": {},
   "outputs": [],
   "source": [
    "summary(data)"
   ]
  },
  {
   "cell_type": "markdown",
   "id": "0d913e48",
   "metadata": {},
   "source": [
    "#### Distribution about the dataset"
   ]
  },
  {
   "cell_type": "code",
   "execution_count": null,
   "id": "71f5d54c",
   "metadata": {},
   "outputs": [],
   "source": [
    "# distribution of age\n",
    "ggplot(data=data, aes(x=age)) +\n",
    "    geom_histogram(color='black', fill='blue')"
   ]
  },
  {
   "cell_type": "code",
   "execution_count": null,
   "id": "8178b6e6",
   "metadata": {},
   "outputs": [],
   "source": [
    "# distribution of wage\n",
    "ggplot(data=data, aes(x=logwage)) +\n",
    "    geom_histogram(color='black', fill='blue')"
   ]
  },
  {
   "cell_type": "code",
   "execution_count": null,
   "id": "474182ea",
   "metadata": {},
   "outputs": [],
   "source": [
    "# distribution of edcuation\n",
    "ggplot(data=data) +\n",
    "    geom_bar(aes(health), color='black', fill='blue')"
   ]
  },
  {
   "cell_type": "code",
   "execution_count": null,
   "id": "9ccabf08",
   "metadata": {},
   "outputs": [],
   "source": [
    "# wage distribution by race\n",
    "ggplot(data=data) +\n",
    "  geom_bar(aes(race, fill=\"red\")) "
   ]
  },
  {
   "cell_type": "code",
   "execution_count": null,
   "id": "827ea89a",
   "metadata": {},
   "outputs": [],
   "source": [
    "# Distribution of education by race\n",
    "ggplot(data, aes(race, fill=education )) + \n",
    "    geom_bar(position=\"dodge\")"
   ]
  },
  {
   "cell_type": "code",
   "execution_count": null,
   "id": "2b67975d",
   "metadata": {},
   "outputs": [],
   "source": [
    "# Distribution of education by race\n",
    "ggplot(data, aes(race, fill=maritl )) + \n",
    "    geom_bar(position=\"dodge\")"
   ]
  },
  {
   "cell_type": "code",
   "execution_count": null,
   "id": "3e863f4c",
   "metadata": {},
   "outputs": [],
   "source": [
    "# Wage and age by education\n",
    "ggplot(data=data, aes(age, wage, color=education)) +\n",
    "  geom_point() +\n",
    "  geom_smooth(method=\"lm\", formula = y ~ x)"
   ]
  },
  {
   "cell_type": "code",
   "execution_count": null,
   "id": "55aff76e",
   "metadata": {},
   "outputs": [],
   "source": [
    "# Wage and age by race\n",
    "ggplot(data=data, aes(age, wage, color=race)) +\n",
    "  geom_point() +\n",
    "  geom_smooth(method=\"lm\", formula = y ~ x)"
   ]
  },
  {
   "cell_type": "markdown",
   "id": "b452289d",
   "metadata": {},
   "source": [
    "#### Wage Distribution by Education"
   ]
  },
  {
   "cell_type": "code",
   "execution_count": null,
   "id": "c8785053",
   "metadata": {},
   "outputs": [],
   "source": [
    "# overall distribution of wage by education using boxplot\n",
    "ggplot(data=data, aes(y = wage, x = education, fill=education)) +\n",
    "  geom_boxplot() +\n",
    "  labs(title = 'Distribution of Education')"
   ]
  },
  {
   "cell_type": "code",
   "execution_count": null,
   "id": "2a95d94b",
   "metadata": {},
   "outputs": [],
   "source": [
    "# overall distribution of wage by education using density plot\n",
    "ggplot(data=data) +\n",
    "         geom_density(aes(x = wage, color = education, fill = education) ,alpha = 0.2)"
   ]
  },
  {
   "cell_type": "markdown",
   "id": "05d6d9e9",
   "metadata": {},
   "source": [
    "#### Wage Distribution by Marital Status"
   ]
  },
  {
   "cell_type": "code",
   "execution_count": null,
   "id": "4a56e641",
   "metadata": {},
   "outputs": [],
   "source": [
    "# overall distribution of wage by marital status using boxplot\n",
    "ggplot(data=data, aes(y = wage, x = race, fill=maritl)) +\n",
    "  geom_boxplot() "
   ]
  },
  {
   "cell_type": "code",
   "execution_count": null,
   "id": "16289cc8",
   "metadata": {},
   "outputs": [],
   "source": [
    "# overall distribution of wage by marital status using density plot\n",
    "ggplot(data=data) +\n",
    "         geom_density(aes(x = wage, color = maritl, fill = maritl) ,alpha = 0.2)"
   ]
  },
  {
   "cell_type": "markdown",
   "id": "58d1ce71",
   "metadata": {},
   "source": [
    "#### Wage Distribution by Health"
   ]
  },
  {
   "cell_type": "code",
   "execution_count": null,
   "id": "b6c25ffc",
   "metadata": {},
   "outputs": [],
   "source": [
    "# overall distribution of wage by health using boxplot\n",
    "ggplot(data=data, aes(y = wage, x = race, fill=health)) +\n",
    "  geom_boxplot() "
   ]
  },
  {
   "cell_type": "code",
   "execution_count": null,
   "id": "355b792a",
   "metadata": {},
   "outputs": [],
   "source": [
    "# overall distribution of wage by health status using density plot\n",
    "ggplot(data=data) +\n",
    "         geom_density(aes(x = wage, color = health, fill = health) ,alpha = 0.2)"
   ]
  },
  {
   "cell_type": "markdown",
   "id": "10ce036d",
   "metadata": {},
   "source": [
    "#### Wage Distribution by Race and Education"
   ]
  },
  {
   "cell_type": "code",
   "execution_count": null,
   "id": "a0b568f1",
   "metadata": {},
   "outputs": [],
   "source": [
    "ggplot(data=data, aes(y = wage, x = race, fill=education)) +\n",
    "  geom_boxplot() "
   ]
  },
  {
   "cell_type": "markdown",
   "id": "c07c0c14",
   "metadata": {},
   "source": [
    "#### Wage Distribution by Race and Health"
   ]
  },
  {
   "cell_type": "code",
   "execution_count": null,
   "id": "a89021f2",
   "metadata": {},
   "outputs": [],
   "source": [
    "ggplot(data=data, aes(y = wage, x = race, fill=health)) +\n",
    "  geom_boxplot() "
   ]
  },
  {
   "cell_type": "markdown",
   "id": "5c439450",
   "metadata": {},
   "source": [
    "#### Wage Distribution by Race and Marital Status"
   ]
  },
  {
   "cell_type": "code",
   "execution_count": null,
   "id": "7fff82d8",
   "metadata": {},
   "outputs": [],
   "source": [
    "ggplot(data=data, aes(y = wage, x = race, fill=maritl)) +\n",
    "  geom_boxplot()"
   ]
  },
  {
   "cell_type": "code",
   "execution_count": null,
   "id": "fca1c4bd",
   "metadata": {},
   "outputs": [],
   "source": [
    "ggplot(data=data, aes(y = wage, x = health, fill=health)) +\n",
    "  geom_boxplot()"
   ]
  },
  {
   "cell_type": "markdown",
   "id": "83e691ef",
   "metadata": {},
   "source": [
    "## Part 2: Linear Regression\n",
    "\n",
    "How does education, marital status, and health influence wage outcome while controlling for race?"
   ]
  },
  {
   "cell_type": "code",
   "execution_count": null,
   "id": "596f8515",
   "metadata": {},
   "outputs": [],
   "source": [
    "# Converting health, marital status and health into factor\n",
    "data$maritl.f <- as.factor(data$maritl)\n",
    "data$health.f <- as.factor(data$health)\n",
    "data$education.f <- as.factor(data$education)\n",
    "data$race.f <- as.factor(data$race)\n",
    "\n",
    "levels(data$maritl.f)\n",
    "levels(data$health.f)\n",
    "levels(data$education.f)\n",
    "levels(data$race.f)"
   ]
  },
  {
   "cell_type": "code",
   "execution_count": null,
   "id": "df5832c8",
   "metadata": {},
   "outputs": [],
   "source": [
    "# Setting reference gorup\n",
    "data$maritl.f <- relevel(data$maritl.f, ref = \"2. Married\")\n",
    "data$health.f <- relevel(data$health.f, ref = \"2. >=Very Good\")\n",
    "data$education.f <- relevel(data$education.f, ref = \"2. HS Grad\")\n",
    "data$race.f <- relevel(data$race.f, ref = \"1. White\")"
   ]
  },
  {
   "cell_type": "code",
   "execution_count": null,
   "id": "93f80e11",
   "metadata": {},
   "outputs": [],
   "source": [
    "# Fitting the regression model\n",
    "results <- lm(data$wage ~ data$maritl.f+ data$health.f + data$education.f + data$race.f, data=data)\n",
    "summary(results)"
   ]
  },
  {
   "cell_type": "markdown",
   "id": "4b07d98e",
   "metadata": {},
   "source": [
    "**Interpretation:**\n",
    "\n",
    "-   F statistic: p-value\\<0.001 - The overall model is statistically significant than a model with no IV\n",
    "\n",
    "1.  Intercept: 104.784\n",
    "    -   Suggests that when all variables are at reference level, the average wage an a mid-Atlantic working male living in the United States for a **married, white male, who is a high school graduate, and in very good health**, makes on average 104.78 (unsure of how wage is measured)\n",
    "2.  Marital Status - Married\n",
    "    -   *Never married:* -22.168, suggesting that the average wage of males who were not married make 22.17 LESS than married men. This was found to be statistically significant from 0 at a significance level of 0.001.\n",
    "\n",
    "    -   *Widowed:* Not statistically significant from 0.\n",
    "\n",
    "    -   *Divorced:* -11.97, suggesting that compared to married men, the average wage of males who were divorced make 11.97 LESS. This was found to be statistically significant from 0 at a significance level of 0.001.\n",
    "\n",
    "    -   *Separated:* Not statistically significant from 0.\n",
    "3.  Education - HS Grad\n",
    "    -   *\\<HS Grad:* -10.93, compared to males who are HS graduates, males who completed less than HS education makes on average less than 10.93 dollars. This was found to be statistically significant from 0 at a significance level of 0.001.\n",
    "\n",
    "    -   *Some College:* 12.17, compared to males who are HS graduates, males who completed some college education make on average 12.17 more. This was found to be statistically significant from 0 at a significance level of 0.001.\n",
    "\n",
    "    -   *College Grad:* 27.138, compared to males who are HS graduates, males who completed some college education make on average 27.14 more. This was found to be statistically significant from 0 at a significance level of 0.001.\n",
    "\n",
    "    -   *Advanced Degree:* 51.819, compared to males who are HS graduates, males who completed some college education make on average 51.82 more. This was found to be statistically significant from 0 at a significance level of 0.001.\n",
    "4.  Race was not found to be statistic significant in predicting wage.\n",
    "5.  Health Status - Very good health\n",
    "    -   Compared to males who are in very good health, males who self-reported to be in just 'good' health make on average 6.30 LESS than males who were in 'very good health'.\n",
    "\n",
    "Due to the disproportion distribution of races in the data set, we will look at such factors with respect to each race independently in determining what decisions an individual can make in maximizing their earning capacity with respect to their educational attainment, health, and marital status, based on historical trends.\n",
    "\n",
    "## White Subset: ANOVA and Post-Hoc Tukey Test\n",
    "\n",
    "-   We first run a one-way ANOVA to see if different levels of education earn different wages\n",
    "\n",
    "-   If results are significant at an alpha significance of 0.05, there is a difference in wage when it comes to the different levels of education for white men.\n",
    "\n",
    "-   Therefore, we conduct a post-hoc Tukey HSD to determine where those differences lie for each level of education, health status, and martial status."
   ]
  },
  {
   "cell_type": "code",
   "execution_count": null,
   "id": "54e0d9b7",
   "metadata": {},
   "outputs": [],
   "source": [
    "# subset for white\n",
    "white = Wage[which(Wage$race=='1. White'),]\n",
    "white"
   ]
  },
  {
   "cell_type": "markdown",
   "id": "f8547dc5",
   "metadata": {},
   "source": [
    "#### Education"
   ]
  },
  {
   "cell_type": "code",
   "execution_count": null,
   "id": "799d2204",
   "metadata": {},
   "outputs": [],
   "source": [
    "#one-way ANOVA wage and education \n",
    "one_way_anova_1 <- aov(wage~ education, data = white) \n",
    "summary(one_way_anova_1)"
   ]
  },
  {
   "cell_type": "code",
   "execution_count": null,
   "id": "d239d4cc",
   "metadata": {},
   "outputs": [],
   "source": [
    "# post-hoc tukey\n",
    "TukeyHSD(one_way_anova_1)"
   ]
  },
  {
   "cell_type": "markdown",
   "id": "eceefeb0",
   "metadata": {},
   "source": [
    "#### Marital Status"
   ]
  },
  {
   "cell_type": "code",
   "execution_count": null,
   "id": "5f42c421",
   "metadata": {},
   "outputs": [],
   "source": [
    "#one-way ANOVA wage and marital status \n",
    "one_way_anova_2 <- aov(wage~ maritl, data = white) \n",
    "summary(one_way_anova_2)"
   ]
  },
  {
   "cell_type": "code",
   "execution_count": null,
   "id": "c83adb5d",
   "metadata": {},
   "outputs": [],
   "source": [
    "# post-hoc tukey\n",
    "TukeyHSD(one_way_anova_2)"
   ]
  },
  {
   "cell_type": "markdown",
   "id": "35dd0774",
   "metadata": {},
   "source": [
    "#### Health Status"
   ]
  },
  {
   "cell_type": "code",
   "execution_count": null,
   "id": "4e49e8fe",
   "metadata": {},
   "outputs": [],
   "source": [
    "#one-way ANOVA wage and health status \n",
    "one_way_anova_3 <- aov(wage~ health, data = white) \n",
    "summary(one_way_anova_3)"
   ]
  },
  {
   "cell_type": "code",
   "execution_count": null,
   "id": "1d372b42",
   "metadata": {},
   "outputs": [],
   "source": [
    "# post-hoc tukey\n",
    "TukeyHSD(one_way_anova_3)"
   ]
  },
  {
   "cell_type": "markdown",
   "id": "b0b93dbb",
   "metadata": {},
   "source": [
    "There are only two categories here so the Tukey test just tells us that white men with \\>=Very Good health make \\~14 more than those with \\<=Good health.\n",
    "\n",
    "## Black Subset: ANOVA and Post-Hoc Tukey Test"
   ]
  },
  {
   "cell_type": "code",
   "execution_count": null,
   "id": "2a9e016c",
   "metadata": {},
   "outputs": [],
   "source": [
    "# subset for black\n",
    "black = Wage[which(Wage$race=='2. Black'),]\n",
    "black"
   ]
  },
  {
   "cell_type": "markdown",
   "id": "3051a5cd",
   "metadata": {},
   "source": [
    "#### Education"
   ]
  },
  {
   "cell_type": "code",
   "execution_count": null,
   "id": "2e7d537e",
   "metadata": {},
   "outputs": [],
   "source": [
    "#one-way ANOVA wage and education\n",
    "one_way_anova_1 <- aov(wage~ education, data = black) \n",
    "summary(one_way_anova_1)"
   ]
  },
  {
   "cell_type": "code",
   "execution_count": null,
   "id": "a60869e2",
   "metadata": {},
   "outputs": [],
   "source": [
    "# post-hoc tukey\n",
    "TukeyHSD(one_way_anova_1)"
   ]
  },
  {
   "cell_type": "markdown",
   "id": "dd2c34a5",
   "metadata": {},
   "source": [
    "#### Marital Status"
   ]
  },
  {
   "cell_type": "code",
   "execution_count": null,
   "id": "d8858d2f",
   "metadata": {},
   "outputs": [],
   "source": [
    "#one-way ANOVA wage and marital status \n",
    "one_way_anova_2 <- aov(wage~ maritl, data = black) \n",
    "summary(one_way_anova_2)"
   ]
  },
  {
   "cell_type": "code",
   "execution_count": null,
   "id": "095ea6a8",
   "metadata": {},
   "outputs": [],
   "source": [
    "# post-hoc tukey\n",
    "TukeyHSD(one_way_anova_2)"
   ]
  },
  {
   "cell_type": "markdown",
   "id": "094ab35e",
   "metadata": {},
   "source": [
    "#### Health Status"
   ]
  },
  {
   "cell_type": "code",
   "execution_count": null,
   "id": "351c19df",
   "metadata": {},
   "outputs": [],
   "source": [
    "#one-way ANOVA wage and health status \n",
    "one_way_anova_3 <- aov(wage~ health, data = black) \n",
    "summary(one_way_anova_3)"
   ]
  },
  {
   "cell_type": "markdown",
   "id": "678852c1",
   "metadata": {},
   "source": [
    "Among the black subgroup, good and very good health were not found to be statistically significant, therefore, no post-hoc Tukey test will be conducted.\n",
    "\n",
    "## Asian Subset: ANOVA and Post-Hoc Tukey Test"
   ]
  },
  {
   "cell_type": "code",
   "execution_count": null,
   "id": "bbbf547e",
   "metadata": {},
   "outputs": [],
   "source": [
    "# subset for asian\n",
    "asian = Wage[which(Wage$race=='3. Asian'),]\n",
    "asian"
   ]
  },
  {
   "cell_type": "markdown",
   "id": "8a63379d",
   "metadata": {},
   "source": [
    "#### Education"
   ]
  },
  {
   "cell_type": "code",
   "execution_count": null,
   "id": "54b27a73",
   "metadata": {},
   "outputs": [],
   "source": [
    "#one-way ANOVA wage and education\n",
    "one_way_anova_1 <- aov(wage~ education, data = asian) \n",
    "summary(one_way_anova_1)"
   ]
  },
  {
   "cell_type": "code",
   "execution_count": null,
   "id": "4fc3d23c",
   "metadata": {},
   "outputs": [],
   "source": [
    "# post-hoc tukey\n",
    "TukeyHSD(one_way_anova_1)"
   ]
  },
  {
   "cell_type": "markdown",
   "id": "86f77209",
   "metadata": {},
   "source": [
    "#### Martial Status"
   ]
  },
  {
   "cell_type": "code",
   "execution_count": null,
   "id": "988bcbda",
   "metadata": {},
   "outputs": [],
   "source": [
    "#one-way ANOVA wage and marital status \n",
    "one_way_anova_2 <- aov(wage~ maritl, data = asian) \n",
    "summary(one_way_anova_2)"
   ]
  },
  {
   "cell_type": "code",
   "execution_count": null,
   "id": "65e141a9",
   "metadata": {},
   "outputs": [],
   "source": [
    "# post-hoc tukey\n",
    "TukeyHSD(one_way_anova_2)"
   ]
  },
  {
   "cell_type": "markdown",
   "id": "dd3f5549",
   "metadata": {},
   "source": [
    "#### Health Status"
   ]
  },
  {
   "cell_type": "code",
   "execution_count": null,
   "id": "be76cdc4",
   "metadata": {},
   "outputs": [],
   "source": [
    "#one-way ANOVA wage and health status \n",
    "one_way_anova_3 <- aov(wage~ health, data = asian) \n",
    "summary(one_way_anova_3)"
   ]
  },
  {
   "cell_type": "code",
   "execution_count": null,
   "id": "b0a35fcd",
   "metadata": {},
   "outputs": [],
   "source": [
    "# post-hoc tukey\n",
    "TukeyHSD(one_way_anova_3)"
   ]
  },
  {
   "cell_type": "code",
   "execution_count": null,
   "id": "6455ee93",
   "metadata": {},
   "outputs": [],
   "source": []
  }
 ],
 "metadata": {
  "jupytext": {
   "cell_metadata_filter": "-all",
   "notebook_metadata_filter": "-all",
   "text_representation": {
    "extension": ".Rmd",
    "format_name": "rmarkdown"
   }
  },
  "kernelspec": {
   "display_name": "R",
   "language": "R",
   "name": "ir"
  }
 },
 "nbformat": 4,
 "nbformat_minor": 5
}
